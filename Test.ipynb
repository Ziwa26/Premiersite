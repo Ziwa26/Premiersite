{
 "cells": [
  {
   "cell_type": "code",
   "execution_count": 1,
   "id": "6bc3868a",
   "metadata": {},
   "outputs": [],
   "source": [
    "L1=['george', 'jean', 'pierre','paul']\n",
    "L2=[15,16,13,10]"
   ]
  },
  {
   "cell_type": "code",
   "execution_count": 5,
   "id": "3b1b9d5b",
   "metadata": {},
   "outputs": [
    {
     "name": "stdout",
     "output_type": "stream",
     "text": [
      "george : 15\n",
      "jean : 16\n",
      "pierre : 13\n",
      "paul : 10\n"
     ]
    }
   ],
   "source": [
    "for i in range (len(L1)):\n",
    "    print (L1[i],':',L2[i])"
   ]
  },
  {
   "cell_type": "code",
   "execution_count": 1,
   "id": "d1208335",
   "metadata": {},
   "outputs": [],
   "source": [
    "D={'george':15,'jean':16, 'pierre':13,'paul':10}"
   ]
  },
  {
   "cell_type": "code",
   "execution_count": 2,
   "id": "7d03fd9d",
   "metadata": {},
   "outputs": [
    {
     "data": {
      "text/plain": [
       "{'george': 15, 'jean': 16, 'pierre': 13, 'paul': 10}"
      ]
     },
     "execution_count": 2,
     "metadata": {},
     "output_type": "execute_result"
    }
   ],
   "source": [
    "D"
   ]
  },
  {
   "cell_type": "code",
   "execution_count": 3,
   "id": "0cb768ec",
   "metadata": {},
   "outputs": [
    {
     "name": "stdout",
     "output_type": "stream",
     "text": [
      "{'george': 15, 'jean': 16, 'pierre': 13, 'paul': 10}\n"
     ]
    }
   ],
   "source": [
    "print(D)"
   ]
  },
  {
   "cell_type": "code",
   "execution_count": 4,
   "id": "4f0f2906",
   "metadata": {},
   "outputs": [
    {
     "ename": "KeyError",
     "evalue": "0",
     "output_type": "error",
     "traceback": [
      "\u001b[1;31m---------------------------------------------------------------------------\u001b[0m",
      "\u001b[1;31mKeyError\u001b[0m                                  Traceback (most recent call last)",
      "\u001b[1;32m<ipython-input-4-a2635327f65d>\u001b[0m in \u001b[0;36m<module>\u001b[1;34m\u001b[0m\n\u001b[1;32m----> 1\u001b[1;33m \u001b[0mD\u001b[0m\u001b[1;33m[\u001b[0m\u001b[1;36m0\u001b[0m\u001b[1;33m]\u001b[0m\u001b[1;33m\u001b[0m\u001b[1;33m\u001b[0m\u001b[0m\n\u001b[0m",
      "\u001b[1;31mKeyError\u001b[0m: 0"
     ]
    }
   ],
   "source": [
    "D[0]"
   ]
  },
  {
   "cell_type": "code",
   "execution_count": 5,
   "id": "c726bf1e",
   "metadata": {},
   "outputs": [],
   "source": [
    "D['georges']=18"
   ]
  },
  {
   "cell_type": "code",
   "execution_count": 6,
   "id": "7b008623",
   "metadata": {},
   "outputs": [
    {
     "data": {
      "text/plain": [
       "{'george': 15, 'jean': 16, 'pierre': 13, 'paul': 10, 'georges': 18}"
      ]
     },
     "execution_count": 6,
     "metadata": {},
     "output_type": "execute_result"
    }
   ],
   "source": [
    "D"
   ]
  },
  {
   "cell_type": "code",
   "execution_count": 7,
   "id": "55be5e68",
   "metadata": {},
   "outputs": [],
   "source": [
    "D['george']=18"
   ]
  },
  {
   "cell_type": "code",
   "execution_count": 8,
   "id": "4fbc1d64",
   "metadata": {},
   "outputs": [
    {
     "data": {
      "text/plain": [
       "{'george': 18, 'jean': 16, 'pierre': 13, 'paul': 10, 'georges': 18}"
      ]
     },
     "execution_count": 8,
     "metadata": {},
     "output_type": "execute_result"
    }
   ],
   "source": [
    "D"
   ]
  },
  {
   "cell_type": "code",
   "execution_count": null,
   "id": "1d58cce3",
   "metadata": {},
   "outputs": [],
   "source": []
  }
 ],
 "metadata": {
  "kernelspec": {
   "display_name": "Python 3",
   "language": "python",
   "name": "python3"
  },
  "language_info": {
   "codemirror_mode": {
    "name": "ipython",
    "version": 3
   },
   "file_extension": ".py",
   "mimetype": "text/x-python",
   "name": "python",
   "nbconvert_exporter": "python",
   "pygments_lexer": "ipython3",
   "version": "3.8.8"
  }
 },
 "nbformat": 4,
 "nbformat_minor": 5
}
